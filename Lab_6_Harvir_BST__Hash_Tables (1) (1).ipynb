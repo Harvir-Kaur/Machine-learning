{
  "nbformat": 4,
  "nbformat_minor": 0,
  "metadata": {
    "colab": {
      "provenance": []
    },
    "kernelspec": {
      "name": "python3",
      "display_name": "Python 3"
    },
    "language_info": {
      "name": "python"
    }
  },
  "cells": [
    {
      "cell_type": "markdown",
      "source": [
        "# Lab 5:\n",
        "## Topic 1 Binary Search Trees"
      ],
      "metadata": {
        "id": "-M9kPMPv7je8"
      }
    },
    {
      "cell_type": "markdown",
      "source": [
        "A Binary Search Tree (BST) is a type of binary tree where each node has at most two children, and it follows a specific order:\n",
        "\n",
        "  - Left subtree: Contains only nodes with values less than the parent node.\n",
        "  - Right subtree: Contains only nodes with values greater than the parent node.\n",
        "\n",
        "  This structure allows efficient searching, insertion, and deletion operations, usually in\n",
        "𝑂(log𝑛) time for balanced trees."
      ],
      "metadata": {
        "id": "ZTw4GmJqrznb"
      }
    },
    {
      "cell_type": "markdown",
      "source": [
        "Methods in a BST\n",
        "Here are some common methods in a BST:\n",
        "\n",
        "- **Insert**: Adds a new node to the tree while maintaining the BST property.\n",
        "- **Search**: Finds if a given value exists in the tree.\n",
        "- **Delete**: Removes a node from the tree and ensures the tree still satisfies the BST properties.\n",
        "- **Traverse**:\n",
        "  - In-order Traversal (Left, Root, Right): Visits nodes in ascending order.\n",
        "  - Pre-order Traversal (Root, Left, Right): Useful for copying the tree.\n",
        "  - Post-order Traversal (Left, Right, Root): Useful for deleting nodes or evaluating expressions.\n",
        "- Find **Minimum** and **Maximum**: Finds the smallest and largest values in the BST.\n",
        "- Find **Height**: Determines the height (or depth) of the tree, which is the longest path from the root to a leaf node."
      ],
      "metadata": {
        "id": "SMbW1EHWsH00"
      }
    },
    {
      "cell_type": "code",
      "source": [
        "#@title Keeping some code here for displaying BST. Do not worry this code is not needed for your lab. You only need to run the code block.\n",
        "\n",
        "def print_tree(root, val=\"val\", left=\"left\", right=\"right\"):\n",
        "    def display(root, val=val, left=left, right=right):\n",
        "        \"\"\"Returns list of strings, width, height, and horizontal coordinate of the root.\"\"\"\n",
        "        # No child.\n",
        "        if getattr(root, right) is None and getattr(root, left) is None:\n",
        "            line = '%s' % getattr(root, val)\n",
        "            width = len(line)\n",
        "            height = 1\n",
        "            middle = width // 2\n",
        "            return [line], width, height, middle\n",
        "\n",
        "        # Only left child.\n",
        "        if getattr(root, right) is None:\n",
        "            lines, n, p, x = display(getattr(root, left))\n",
        "            s = '%s' % getattr(root, val)\n",
        "            u = len(s)\n",
        "            first_line = (x + 1) * ' ' + (n - x - 1) * '_' + s\n",
        "            second_line = x * ' ' + '/' + (n - x - 1 + u) * ' '\n",
        "            shifted_lines = [line + u * ' ' for line in lines]\n",
        "            return [first_line, second_line] + shifted_lines, n + u, p + 2, n + u // 2\n",
        "\n",
        "        # Only right child.\n",
        "        if getattr(root, left) is None:\n",
        "            lines, n, p, x = display(getattr(root, right))\n",
        "            s = '%s' % getattr(root, val)\n",
        "            u = len(s)\n",
        "            first_line = s + x * '_' + (n - x) * ' '\n",
        "            second_line = (u + x) * ' ' + '\\\\' + (n - x - 1) * ' '\n",
        "            shifted_lines = [u * ' ' + line for line in lines]\n",
        "            return [first_line, second_line] + shifted_lines, n + u, p + 2, u // 2\n",
        "\n",
        "        # Two children.\n",
        "        left, n, p, x = display(getattr(root, left))\n",
        "        right, m, q, y = display(getattr(root, right))\n",
        "        s = '%s' % getattr(root, val)\n",
        "        u = len(s)\n",
        "        first_line = (x + 1) * ' ' + (n - x - 1) * '_' + s + y * '_' + (m - y) * ' '\n",
        "        second_line = x * ' ' + '/' + (n - x - 1 + u + y) * ' ' + '\\\\' + (m - y - 1) * ' '\n",
        "        if p < q:\n",
        "            left += [n * ' '] * (q - p)\n",
        "        elif q < p:\n",
        "            right += [m * ' '] * (p - q)\n",
        "        zipped_lines = zip(left, right)\n",
        "        lines = [first_line, second_line] + [a + u * ' ' + b for a, b in zipped_lines]\n",
        "        return lines, n + m + u, max(p, q) + 2, n + u // 2\n",
        "\n",
        "    lines, *_ = display(root, val, left, right)\n",
        "    for line in lines:\n",
        "        print(line)"
      ],
      "metadata": {
        "cellView": "form",
        "id": "MLiOt0swyBlD"
      },
      "execution_count": null,
      "outputs": []
    },
    {
      "cell_type": "markdown",
      "source": [
        "Just like a LinkedList, a BST can start with a Node, which has a key, a value and a left and right child as pointers."
      ],
      "metadata": {
        "id": "Z8bvTAJKroMu"
      }
    },
    {
      "cell_type": "code",
      "execution_count": null,
      "metadata": {
        "id": "ZQ_ReQTx7ENV"
      },
      "outputs": [],
      "source": [
        "class BinarySearchTreeNode:\n",
        "    def __init__(self, value):\n",
        "        \"\"\"\n",
        "        Initializes a node with the given value and sets left and right children to None.\n",
        "        \"\"\"\n",
        "        self.value = value\n",
        "        self.left = None  # Left child\n",
        "        self.right = None  # Right child"
      ]
    },
    {
      "cell_type": "markdown",
      "source": [
        "The BST class:"
      ],
      "metadata": {
        "id": "cqhswDd6v7zu"
      }
    },
    {
      "cell_type": "code",
      "source": [
        "class BinarySearchTree:\n",
        "    def __init__(self):\n",
        "        \"\"\"\n",
        "        Initializes an empty Binary Search Tree with root set to None.\n",
        "        \"\"\"\n",
        "        self.root = None\n",
        "\n",
        "    def insert(self, value):\n",
        "        \"\"\"\n",
        "        Inserts a new node with the specified value into the BST.\n",
        "        \"\"\"\n",
        "        new_node = BinarySearchTreeNode(value)  # Create a new node with the given value\n",
        "        if self.root is None:  # If tree is empty, set root to the new node\n",
        "            self.root = new_node\n",
        "        else:\n",
        "            # Start from the root and find the correct spot for the new node\n",
        "            current = self.root\n",
        "            while True:\n",
        "                if value < current.value:  # Go to the left subtree if value is smaller\n",
        "                    if current.left is None:  # If left child is empty, insert here\n",
        "                        current.left = new_node\n",
        "                        break\n",
        "                    else:\n",
        "                        current = current.left  # Move to the left child\n",
        "                else:  # Go to the right subtree if value is larger or equal\n",
        "                    if current.right is None:  # If right child is empty, insert here\n",
        "                        current.right = new_node\n",
        "                        break\n",
        "                    else:\n",
        "                        current = current.right  # Move to the right child\n",
        "\n",
        "    def search(self, value):\n",
        "        \"\"\"\n",
        "        Searches for a node with the specified value in the BST.\n",
        "        Returns True if found, otherwise False.\n",
        "        \"\"\"\n",
        "        current = self.root  # Start from the root\n",
        "        while current is not None:\n",
        "            if value == current.value:  # Value found\n",
        "                return True\n",
        "            elif value < current.value:  # Go to the left subtree if value is smaller\n",
        "                current = current.left\n",
        "            else:  # Go to the right subtree if value is larger\n",
        "                current = current.right\n",
        "        return False  # Value not found\n",
        "\n",
        "    def delete_node(self, node, val):\n",
        "        \"\"\"\n",
        "        Recursively deletes a node with the specified value from the BST.\n",
        "        Returns the modified tree (node).\n",
        "        \"\"\"\n",
        "        if not node:\n",
        "            return None  # Base case: if node is None, return None\n",
        "\n",
        "        # Recursively find the node to delete\n",
        "        if val < node.value:  # Go to the left subtree\n",
        "            node.left = self.delete_node(node.left, val)\n",
        "        elif val > node.value:  # Go to the right subtree\n",
        "            node.right = self.delete_node(node.right, val)\n",
        "        else:\n",
        "            # Node to be deleted is found\n",
        "            # Case 1: No children (leaf node)\n",
        "            if not node.left and not node.right:\n",
        "                node = None\n",
        "            # Case 2: One child (either left or right)\n",
        "            elif not node.left:  # Node has only a right child\n",
        "                node = node.right\n",
        "            elif not node.right:  # Node has only a left child\n",
        "                node = node.left\n",
        "            # Case 3: Two children\n",
        "            else:\n",
        "                # Find the in-order successor (smallest value in the right subtree)\n",
        "                successor = node.right\n",
        "                while successor.left:\n",
        "                    successor = successor.left\n",
        "                node.value = successor.value  # Replace current node's value with successor's value\n",
        "                # Delete the successor node from the right subtree\n",
        "                node.right = self.delete_node(node.right, successor.value)\n",
        "\n",
        "        return node\n",
        "\n",
        "    def delete(self, value):\n",
        "        \"\"\"\n",
        "        Deletes a node with the specified value from the BST, starting from the root.\n",
        "        \"\"\"\n",
        "        self.root = self.delete_node(self.root, value)\n",
        "\n",
        "    def inorder_traversal(self):\n",
        "        \"\"\"\n",
        "        Performs an in-order traversal of the BST iteratively.\n",
        "        Prints the value of each node in ascending order (left-root-right).\n",
        "        \"\"\"\n",
        "        stack = []\n",
        "        current = self.root\n",
        "\n",
        "        while stack or current:\n",
        "            # Reach the leftmost node of the current node\n",
        "            while current:\n",
        "                stack.append(current)\n",
        "                current = current.left\n",
        "\n",
        "            # Current must be None at this point, pop the stack\n",
        "            current = stack.pop()\n",
        "            print(current.value)  # Print the node's value\n",
        "\n",
        "            # Move to the right subtree\n",
        "            current = current.right\n",
        "\n",
        "    def print_tree(self):\n",
        "        \"\"\"\n",
        "        Prints the binary search tree in a structured format.\n",
        "        \"\"\"\n",
        "        if self.root is not None:\n",
        "            print_tree(self.root, val=\"value\", left=\"left\", right=\"right\")\n"
      ],
      "metadata": {
        "id": "bAx1NsB6ux_x"
      },
      "execution_count": null,
      "outputs": []
    },
    {
      "cell_type": "markdown",
      "source": [
        "####How does BST Insertion work?\n",
        "\n",
        "Inserting a new node into a Binary Search Tree (BST) follows a specific process that maintains the BST property: left child nodes are less than the parent node, and right child nodes are greater than the parent node.\n",
        "Steps for Inserting a Value in a BST\n",
        "1. Start at the Root:\n",
        "\n",
        "  If the tree is empty, set the new node as the root.\n",
        "2. Traverse the Tree:\n",
        "\n",
        "  Start at the root and compare the new value with the current node.\n",
        "  Move left if the value is smaller, or right if it’s larger.\n",
        "3. Find the Position:\n",
        "\n",
        "  Continue left or right until reaching an empty spot (None).\n",
        "4. Insert the Node:\n",
        "\n",
        "  Place the new node in the empty spot as the left or right child of the last node visited."
      ],
      "metadata": {
        "id": "cL9UCq9j1Z5X"
      }
    },
    {
      "cell_type": "markdown",
      "source": [
        "Testing Insertion"
      ],
      "metadata": {
        "id": "YX8xroNlzUHx"
      }
    },
    {
      "cell_type": "code",
      "source": [
        "# Example usage:\n",
        "bst = BinarySearchTree()\n",
        "bst.insert(6)\n",
        "bst.insert(2)\n",
        "bst.insert(1)\n",
        "bst.insert(4)\n",
        "bst.insert(3)\n",
        "\n",
        "print(\"Let's see how our tree is looking like after inserting these values (6,2,1,4,3):\")\n",
        "bst.print_tree()\n",
        "\n",
        "print(\"Let's insert some more values 5,7,9 and 8\")\n",
        "bst.insert(5)\n",
        "bst.insert(7)\n",
        "bst.insert(9)\n",
        "bst.insert(8)\n",
        "\n",
        "bst.print_tree()\n",
        "\n",
        "print(\"In order traversal of our BST\")\n",
        "bst.inorder_traversal()"
      ],
      "metadata": {
        "colab": {
          "base_uri": "https://localhost:8080/"
        },
        "id": "FpxPaV7jEM-T",
        "outputId": "8c34bffa-53bb-49fa-e9bd-7f6aeebf2b48"
      },
      "execution_count": null,
      "outputs": [
        {
          "output_type": "stream",
          "name": "stdout",
          "text": [
            "Let's see how our tree is looking like after inserting these values (6,2,1,4,3):\n",
            "  __6\n",
            " /   \n",
            " 2_  \n",
            "/  \\ \n",
            "1  4 \n",
            "  /  \n",
            "  3  \n",
            "Let's insert some more values 5,7,9 and 8\n",
            "  ___6   \n",
            " /    \\  \n",
            " 2_   7_ \n",
            "/  \\    \\\n",
            "1  4    9\n",
            "  / \\  / \n",
            "  3 5  8 \n",
            "In order traversal of our BST\n",
            "1\n",
            "2\n",
            "3\n",
            "4\n",
            "5\n",
            "6\n",
            "7\n",
            "8\n",
            "9\n"
          ]
        }
      ]
    },
    {
      "cell_type": "markdown",
      "source": [
        "####How does BST Deletion work?\n",
        "1. Locate the Node:\n",
        "\n",
        "  Start at the root, move left or right depending on whether the value to delete is smaller or larger than the current node's value, until you find the node.\n",
        "2. Handle Cases:\n",
        "\n",
        "  - Case 1: Node has No Children (Leaf Node): Simply remove the node by setting its parent’s pointer to None.\n",
        "  - Case 2: Node has One Child: Replace the node with its only child (left or right) by updating its parent’s pointer.\n",
        "  - Case 3: Node has Two Children:\n",
        "\n",
        "    Find the node’s in-order successor (smallest node in the right subtree).\n",
        "    Replace the node’s value with the in-order successor’s value.\n",
        "    Delete the in-order successor (which will either be a leaf or have one child)."
      ],
      "metadata": {
        "id": "dYlaeA_b2axG"
      }
    },
    {
      "cell_type": "markdown",
      "source": [
        "Testing deletion or removal of node"
      ],
      "metadata": {
        "id": "tgfVZkTrzWZ_"
      }
    },
    {
      "cell_type": "code",
      "source": [
        "bst.delete(8)\n",
        "print(\"After removing node 8:\")\n",
        "bst.print_tree()\n",
        "\n",
        "print(\"Finding '8':\", bst.search(8))  # Should print True for finding the value 6\n",
        "\n",
        "# let's delete a node with 1 child: 7\n",
        "bst.delete(7)\n",
        "print(\"Removing node with 1 child: 7\")\n",
        "bst.print_tree()\n",
        "\n",
        "# let's remove a node with 2 children: 4\n",
        "bst.delete(4)\n",
        "print(\"Removing node with 2 child: 4\")\n",
        "bst.print_tree()\n",
        "\n",
        "# in order traversal\n",
        "print(\"In order traversal of our BST\")\n",
        "bst.inorder_traversal()"
      ],
      "metadata": {
        "colab": {
          "base_uri": "https://localhost:8080/"
        },
        "id": "mdAseDWszYZF",
        "outputId": "90cdbeb0-f447-4176-f5d6-4aad3cda827f"
      },
      "execution_count": null,
      "outputs": [
        {
          "output_type": "stream",
          "name": "stdout",
          "text": [
            "After removing node 8:\n",
            "  ___6  \n",
            " /    \\ \n",
            " 2_   7 \n",
            "/  \\   \\\n",
            "1  4   9\n",
            "  / \\   \n",
            "  3 5   \n",
            "Finding '8': False\n",
            "Removing node with 1 child: 7\n",
            "  ___6 \n",
            " /    \\\n",
            " 2_   9\n",
            "/  \\   \n",
            "1  4   \n",
            "  / \\  \n",
            "  3 5  \n",
            "Removing node with 2 child: 4\n",
            "  __6 \n",
            " /   \\\n",
            " 2_  9\n",
            "/  \\  \n",
            "1  5  \n",
            "  /   \n",
            "  3   \n",
            "In order traversal of our BST\n",
            "1\n",
            "2\n",
            "3\n",
            "5\n",
            "6\n",
            "9\n"
          ]
        }
      ]
    },
    {
      "cell_type": "markdown",
      "source": [
        "## Topic 2: Hash Tables\n",
        "\n",
        "A hash table is a data structure that uses a hashing function to map keys to values for efficient data retrieval. It supports operations like insertion, deletion, and lookup, typically in constant time O(1) on average. Key terms:\n",
        "\n",
        "- Hash Function: Converts a key into a specific index in an array, where the associated value is stored.\n",
        "- Collision: When two keys hash to the same index, causing a conflict.\n",
        "\n",
        "####Operations in Hash Tables\n",
        "- Insertion: Add a key-value pair to the hash table.\n",
        "- Search: Find the value associated with a key.\n",
        "- Deletion: Remove a key-value pair from the hash table."
      ],
      "metadata": {
        "id": "onVfPYjW3S9x"
      }
    },
    {
      "cell_type": "markdown",
      "source": [
        "###Hash Table Implementation: Using Chaining"
      ],
      "metadata": {
        "id": "JBaRC_RnNPQ5"
      }
    },
    {
      "cell_type": "code",
      "source": [
        "class HashTableChaining:\n",
        "    def __init__(self, size=10):\n",
        "        \"\"\"\n",
        "        Initialize a hash table with the given size and an array of empty buckets (lists).\n",
        "        \"\"\"\n",
        "        self.size = size\n",
        "        self.table = [[] for _ in range(size)]\n",
        "\n",
        "    def _hash(self, key):\n",
        "        \"\"\"\n",
        "        Hash function: calculates index by taking modulo of the key's hash value.\n",
        "        \"\"\"\n",
        "        return hash(key) % self.size\n",
        "\n",
        "    def insert(self, key, value):\n",
        "        \"\"\"\n",
        "        Insert a key-value pair into the hash table.\n",
        "        \"\"\"\n",
        "        index = self._hash(key)\n",
        "        # Update if the key exists\n",
        "        for kv_pair in self.table[index]:\n",
        "            if kv_pair[0] == key:\n",
        "                kv_pair[1] = value\n",
        "                return\n",
        "        # Append if the key does not exist\n",
        "        self.table[index].append([key, value])\n",
        "\n",
        "    def search(self, key):\n",
        "        \"\"\"\n",
        "        Search for a key in the hash table and return its value, or None if not found.\n",
        "        \"\"\"\n",
        "        index = self._hash(key)\n",
        "        for kv_pair in self.table[index]:\n",
        "            if kv_pair[0] == key:\n",
        "                return kv_pair[1]\n",
        "        return None\n",
        "\n",
        "    def delete(self, key):\n",
        "        \"\"\"\n",
        "        Delete a key-value pair from the hash table.\n",
        "        \"\"\"\n",
        "        index = self._hash(key)\n",
        "        for i, kv_pair in enumerate(self.table[index]):\n",
        "            if kv_pair[0] == key:\n",
        "                del self.table[index][i]\n",
        "                return True\n",
        "        return False\n",
        "\n",
        "    def __repr__(self):\n",
        "        \"\"\"\n",
        "        Display the hash table for debugging and visualization.\n",
        "        \"\"\"\n",
        "        table_str = \"\"\n",
        "        for i, bucket in enumerate(self.table):\n",
        "            table_str += f\"Index {i}: {bucket}\\n\"\n",
        "        return table_str\n"
      ],
      "metadata": {
        "id": "-mMkbSBoNWSZ"
      },
      "execution_count": null,
      "outputs": []
    },
    {
      "cell_type": "markdown",
      "source": [
        "Testing the Hash Table"
      ],
      "metadata": {
        "id": "JCbvp7u5UISB"
      }
    },
    {
      "cell_type": "code",
      "source": [
        "print(\"Using a default hash table of size 10\")\n",
        "ht1 = HashTableChaining()\n",
        "print(ht1.delete(\"Kiwifruit\"))\n",
        "ht1.insert(\"Apple\", 58)\n",
        "ht1.insert(\"Banana\", 14)\n",
        "ht1.insert(\"Cucumber\", 8)\n",
        "ht1.insert(\"Durian\", 8)\n",
        "ht1.insert(\"Elderberry\", 8)\n",
        "ht1.insert(\"Fig\", 8)\n",
        "print(ht1)\n",
        "\n",
        "# Deleting items\n",
        "print(ht1.delete(\"Banana\"))\n",
        "print(ht1)\n",
        "print(ht1.delete(\"Carrot\"))\n",
        "print(ht1)\n",
        "ht1.insert(\"Grapes\", 8)\n",
        "print(ht1)\n",
        "ht1.insert(\"Honeydew\", 8)\n",
        "print(ht1)\n",
        "ht1.insert(\"J\", 8)\n",
        "print(ht1)"
      ],
      "metadata": {
        "colab": {
          "base_uri": "https://localhost:8080/"
        },
        "id": "H61juyo_UKPI",
        "outputId": "1445628d-2653-4286-c391-42d59801a7be"
      },
      "execution_count": null,
      "outputs": [
        {
          "output_type": "stream",
          "name": "stdout",
          "text": [
            "Using a default hash table of size 10\n",
            "False\n",
            "Index 0: []\n",
            "Index 1: [['Cucumber', 8]]\n",
            "Index 2: [['Apple', 58], ['Durian', 8], ['Elderberry', 8]]\n",
            "Index 3: []\n",
            "Index 4: [['Banana', 14], ['Fig', 8]]\n",
            "Index 5: []\n",
            "Index 6: []\n",
            "Index 7: []\n",
            "Index 8: []\n",
            "Index 9: []\n",
            "\n",
            "True\n",
            "Index 0: []\n",
            "Index 1: [['Cucumber', 8]]\n",
            "Index 2: [['Apple', 58], ['Durian', 8], ['Elderberry', 8]]\n",
            "Index 3: []\n",
            "Index 4: [['Fig', 8]]\n",
            "Index 5: []\n",
            "Index 6: []\n",
            "Index 7: []\n",
            "Index 8: []\n",
            "Index 9: []\n",
            "\n",
            "False\n",
            "Index 0: []\n",
            "Index 1: [['Cucumber', 8]]\n",
            "Index 2: [['Apple', 58], ['Durian', 8], ['Elderberry', 8]]\n",
            "Index 3: []\n",
            "Index 4: [['Fig', 8]]\n",
            "Index 5: []\n",
            "Index 6: []\n",
            "Index 7: []\n",
            "Index 8: []\n",
            "Index 9: []\n",
            "\n",
            "Index 0: []\n",
            "Index 1: [['Cucumber', 8]]\n",
            "Index 2: [['Apple', 58], ['Durian', 8], ['Elderberry', 8]]\n",
            "Index 3: []\n",
            "Index 4: [['Fig', 8]]\n",
            "Index 5: []\n",
            "Index 6: []\n",
            "Index 7: [['Grapes', 8]]\n",
            "Index 8: []\n",
            "Index 9: []\n",
            "\n",
            "Index 0: []\n",
            "Index 1: [['Cucumber', 8]]\n",
            "Index 2: [['Apple', 58], ['Durian', 8], ['Elderberry', 8]]\n",
            "Index 3: []\n",
            "Index 4: [['Fig', 8]]\n",
            "Index 5: []\n",
            "Index 6: [['Honeydew', 8]]\n",
            "Index 7: [['Grapes', 8]]\n",
            "Index 8: []\n",
            "Index 9: []\n",
            "\n",
            "Index 0: []\n",
            "Index 1: [['Cucumber', 8]]\n",
            "Index 2: [['Apple', 58], ['Durian', 8], ['Elderberry', 8]]\n",
            "Index 3: []\n",
            "Index 4: [['Fig', 8]]\n",
            "Index 5: []\n",
            "Index 6: [['Honeydew', 8]]\n",
            "Index 7: [['Grapes', 8], ['J', 8]]\n",
            "Index 8: []\n",
            "Index 9: []\n",
            "\n"
          ]
        }
      ]
    },
    {
      "cell_type": "markdown",
      "source": [
        "### Hash Table using Linear Probing"
      ],
      "metadata": {
        "id": "s5ThTf1OWxEw"
      }
    },
    {
      "cell_type": "code",
      "source": [
        "class HashTableProbingList:\n",
        "    def __init__(self, size=10):\n",
        "        \"\"\"\n",
        "        Initialize a hash table with the given size and an array of empty buckets (lists).\n",
        "        Each bucket will hold a single key-value pair list, or remain empty.\n",
        "        \"\"\"\n",
        "        self.size = size\n",
        "        self.table = [[] for _ in range(size)]  # Each slot is an empty list to hold one key-value pair\n",
        "\n",
        "    def _hash(self, key, probe=0):\n",
        "        \"\"\"\n",
        "        Hash function with linear probing.\n",
        "        Calculates the index by combining the base hash with the probe count.\n",
        "        \"\"\"\n",
        "        base_hash = hash(key) % self.size\n",
        "        return (base_hash + probe) % self.size  # Linear probing\n",
        "\n",
        "    def insert(self, key, value):\n",
        "        \"\"\"\n",
        "        Insert a key-value pair into the hash table using linear probing.\n",
        "        If a collision occurs, it probes to find the next available slot.\n",
        "        \"\"\"\n",
        "        for probe in range(self.size):\n",
        "            index = self._hash(key, probe)\n",
        "            # If the bucket is empty or has the key, insert or update\n",
        "            if not self.table[index]:  # Empty list means an available slot\n",
        "                self.table[index] = [key, value]\n",
        "                return\n",
        "            elif self.table[index][0] == key:  # Update the value if the key already exists\n",
        "                self.table[index][1] = value\n",
        "                return\n",
        "\n",
        "        # If no empty slot is found after probing, raise an exception\n",
        "        raise Exception(\"Hash table is full\")\n",
        "\n",
        "    def search(self, key):\n",
        "        \"\"\"\n",
        "        Search for a key in the hash table and return its value, or None if not found.\n",
        "        Uses linear probing to handle collisions.\n",
        "        \"\"\"\n",
        "        for probe in range(self.size):\n",
        "            index = self._hash(key, probe)\n",
        "            if not self.table[index]:  # Empty slot means key is not in the table\n",
        "                return None\n",
        "            elif self.table[index][0] == key:  # Key found, return its value\n",
        "                return self.table[index][1]\n",
        "        return None  # Key not found after probing\n",
        "\n",
        "    def delete(self, key):\n",
        "        \"\"\"\n",
        "        Delete a key-value pair from the hash table using linear probing.\n",
        "        Returns True if the key was found and deleted, or False if not found.\n",
        "        \"\"\"\n",
        "        for probe in range(self.size):\n",
        "            index = self._hash(key, probe)\n",
        "            if not self.table[index]:  # Empty slot means key is not in the table\n",
        "                return False\n",
        "            elif self.table[index][0] == key:  # Key found, delete it by emptying the list\n",
        "                self.table[index] = []\n",
        "                return True\n",
        "        return False  # Key not found after probing\n",
        "\n",
        "    def __repr__(self):\n",
        "        \"\"\"\n",
        "        Display the hash table for debugging and visualization.\n",
        "        \"\"\"\n",
        "        table_str = \"\"\n",
        "        for i, bucket in enumerate(self.table):\n",
        "            table_str += f\"Index {i}: {bucket}\\n\"\n",
        "        return table_str\n"
      ],
      "metadata": {
        "id": "ixfOyYeVWwuK"
      },
      "execution_count": null,
      "outputs": []
    },
    {
      "cell_type": "markdown",
      "source": [
        "Testing the Hash Table with Probing on the same data:"
      ],
      "metadata": {
        "id": "aNJ7m7qgZVZp"
      }
    },
    {
      "cell_type": "code",
      "source": [
        "print(\"Using a default hash table of size 10\")\n",
        "ht1 = HashTableProbingList()\n",
        "print(ht1.delete(\"Kiwifruit\"))\n",
        "ht1.insert(\"Apple\", 58)\n",
        "ht1.insert(\"Banana\", 14)\n",
        "ht1.insert(\"Cucumber\", 8)\n",
        "ht1.insert(\"Durian\", 8)\n",
        "ht1.insert(\"Elderberry\", 8)\n",
        "ht1.insert(\"Fig\", 8)\n",
        "print(ht1)\n",
        "\n",
        "# Deleting items\n",
        "print(ht1.delete(\"Banana\"))\n",
        "print(ht1)\n",
        "print(ht1.delete(\"Carrot\"))\n",
        "print(ht1)\n",
        "ht1.insert(\"Grapes\", 8)\n",
        "print(ht1)\n",
        "ht1.insert(\"Honeydew\", 8)\n",
        "print(ht1)\n",
        "ht1.insert(\"J\", 8)\n",
        "print(ht1)"
      ],
      "metadata": {
        "colab": {
          "base_uri": "https://localhost:8080/"
        },
        "id": "1A7twxvtZYeu",
        "outputId": "802cd433-acb8-4bea-f2c8-738152d2d491"
      },
      "execution_count": null,
      "outputs": [
        {
          "output_type": "stream",
          "name": "stdout",
          "text": [
            "Using a default hash table of size 10\n",
            "False\n",
            "Index 0: []\n",
            "Index 1: ['Cucumber', 8]\n",
            "Index 2: ['Apple', 58]\n",
            "Index 3: ['Durian', 8]\n",
            "Index 4: ['Banana', 14]\n",
            "Index 5: ['Elderberry', 8]\n",
            "Index 6: ['Fig', 8]\n",
            "Index 7: []\n",
            "Index 8: []\n",
            "Index 9: []\n",
            "\n",
            "True\n",
            "Index 0: []\n",
            "Index 1: ['Cucumber', 8]\n",
            "Index 2: ['Apple', 58]\n",
            "Index 3: ['Durian', 8]\n",
            "Index 4: []\n",
            "Index 5: ['Elderberry', 8]\n",
            "Index 6: ['Fig', 8]\n",
            "Index 7: []\n",
            "Index 8: []\n",
            "Index 9: []\n",
            "\n",
            "False\n",
            "Index 0: []\n",
            "Index 1: ['Cucumber', 8]\n",
            "Index 2: ['Apple', 58]\n",
            "Index 3: ['Durian', 8]\n",
            "Index 4: []\n",
            "Index 5: ['Elderberry', 8]\n",
            "Index 6: ['Fig', 8]\n",
            "Index 7: []\n",
            "Index 8: []\n",
            "Index 9: []\n",
            "\n",
            "Index 0: []\n",
            "Index 1: ['Cucumber', 8]\n",
            "Index 2: ['Apple', 58]\n",
            "Index 3: ['Durian', 8]\n",
            "Index 4: []\n",
            "Index 5: ['Elderberry', 8]\n",
            "Index 6: ['Fig', 8]\n",
            "Index 7: ['Grapes', 8]\n",
            "Index 8: []\n",
            "Index 9: []\n",
            "\n",
            "Index 0: []\n",
            "Index 1: ['Cucumber', 8]\n",
            "Index 2: ['Apple', 58]\n",
            "Index 3: ['Durian', 8]\n",
            "Index 4: []\n",
            "Index 5: ['Elderberry', 8]\n",
            "Index 6: ['Fig', 8]\n",
            "Index 7: ['Grapes', 8]\n",
            "Index 8: ['Honeydew', 8]\n",
            "Index 9: []\n",
            "\n",
            "Index 0: []\n",
            "Index 1: ['Cucumber', 8]\n",
            "Index 2: ['Apple', 58]\n",
            "Index 3: ['Durian', 8]\n",
            "Index 4: []\n",
            "Index 5: ['Elderberry', 8]\n",
            "Index 6: ['Fig', 8]\n",
            "Index 7: ['Grapes', 8]\n",
            "Index 8: ['Honeydew', 8]\n",
            "Index 9: ['J', 8]\n",
            "\n"
          ]
        }
      ]
    },
    {
      "cell_type": "markdown",
      "source": [
        "To better understand how different collision resolution techniques work, compare the two hash table implementations (one using chaining and the other using linear probing) and visualize their differences."
      ],
      "metadata": {
        "id": "XQbVysjtZ4F-"
      }
    },
    {
      "cell_type": "markdown",
      "source": [
        "## Practice Questions"
      ],
      "metadata": {
        "id": "Ro3TDhqME5Ge"
      }
    },
    {
      "cell_type": "markdown",
      "source": [
        "1. **Find the $k$th Smallest Element in a BST**: Implement a function `find_kth_smallest(root, k)` that finds the $k$th smallest element in the BST. You must document your code and do algorithm analysis, mentioning the Time Complexity (Big O)."
      ],
      "metadata": {
        "id": "u6kOz1Gr8oKb"
      }
    },
    {
      "cell_type": "markdown",
      "source": [
        "*Your explanation goes here.*"
      ],
      "metadata": {
        "id": "B6l7-CyE9Jz3"
      }
    },
    {
      "cell_type": "code",
      "source": [
        "### Your solution code goes here. ###\n",
        "def find_kth_smallest(root, k):\n",
        "    \"\"\"\n",
        "    Finds the kth smallest element in a Binary Search Tree (BST).\n",
        "\n",
        "    Args:\n",
        "        root: The root node of the BST.\n",
        "        k: The desired position (1-based) of the smallest element.\n",
        "\n",
        "    Returns:\n",
        "        The value of the kth smallest element, or None if not found.\n",
        "    \"\"\"\n",
        "\n",
        "    count = 0\n",
        "    result = None\n",
        "\n",
        "    def inorder(node):\n",
        "        nonlocal count, result\n",
        "\n",
        "        if node is None or result is not None:\n",
        "            return\n",
        "\n",
        "        inorder(node.left)  # Traverse left subtree\n",
        "\n",
        "        count += 1\n",
        "        if count == k:  # Found the kth smallest\n",
        "            result = node.value\n",
        "            return\n",
        "\n",
        "        inorder(node.right)  # Traverse right subtree\n",
        "\n",
        "    inorder(root)\n",
        "    return result"
      ],
      "metadata": {
        "id": "GsE3h8tK9Qf1"
      },
      "execution_count": 1,
      "outputs": []
    },
    {
      "cell_type": "code",
      "source": [
        "### Your test code goes here. ###\n",
        "\n",
        "class Node:\n",
        "    def __init__(self, value):\n",
        "        self.value = value\n",
        "        self.left = None\n",
        "        self.right = None\n",
        "\n",
        "class BinarySearchTree:\n",
        "    def __init__(self):\n",
        "        self.root = None\n",
        "\n",
        "    def insert(self, value):\n",
        "        if self.root is None:\n",
        "            self.root = Node(value)\n",
        "        else:\n",
        "            self._insert_recursive(self.root, value)\n",
        "\n",
        "    def _insert_recursive(self, node, value):\n",
        "        if value < node.value:\n",
        "            if node.left is None:\n",
        "                node.left = Node(value)\n",
        "            else:\n",
        "                self._insert_recursive(node.left, value)\n",
        "        else:  # value >= node.value\n",
        "            if node.right is None:\n",
        "                node.right = Node(value)\n",
        "            else:\n",
        "                self._insert_recursive(node.right, value)\n",
        "\n",
        "\n",
        "# Example usage\n",
        "bst = BinarySearchTree()\n",
        "bst.insert(6)\n",
        "bst.insert(2)\n",
        "bst.insert(1)\n",
        "bst.insert(4)\n",
        "bst.insert(3)\n",
        "bst.insert(5)\n",
        "bst.insert(7)\n",
        "bst.insert(9)\n",
        "bst.insert(8)\n",
        "\n",
        "k = 3\n",
        "kth_smallest = find_kth_smallest(bst.root, k)\n",
        "print(f\"The {k}th smallest element is: {kth_smallest}\")"
      ],
      "metadata": {
        "id": "ASj7yZTc9Wet",
        "colab": {
          "base_uri": "https://localhost:8080/"
        },
        "outputId": "d8fdd604-ede2-4a4c-82dd-e961f440f5af"
      },
      "execution_count": 4,
      "outputs": [
        {
          "output_type": "stream",
          "name": "stdout",
          "text": [
            "The 3th smallest element is: 3\n"
          ]
        }
      ]
    },
    {
      "cell_type": "markdown",
      "source": [
        "*Your analysis goes here.*"
      ],
      "metadata": {
        "id": "XFR2eRxo9uUZ"
      }
    },
    {
      "cell_type": "markdown",
      "source": [
        "2. **Find the $k$th Largest Element in a BST**: Write a function `find_kth_largest(root, k)` to find the $k$th largest element in the BST. You must document your code and do algorithm analysis, mentioning the Time Complexity (Big O)."
      ],
      "metadata": {
        "id": "w-i_02sz8qln"
      }
    },
    {
      "cell_type": "markdown",
      "source": [
        "*Your explanation goes here.*"
      ],
      "metadata": {
        "id": "UFlPpR169KVK"
      }
    },
    {
      "cell_type": "code",
      "source": [
        "### Your solution code goes here. ###\n",
        "def find_kth_largest(root, k):\n",
        "    \"\"\"\n",
        "    Finds the kth largest element in a Binary Search Tree (BST).\n",
        "\n",
        "    Args:\n",
        "        root: The root node of the BST.\n",
        "        k: The desired position (1-based) of the largest element.\n",
        "\n",
        "    Returns:\n",
        "        The value of the kth largest element, or None if not found.\n",
        "    \"\"\"\n",
        "\n",
        "    count = 0\n",
        "    result = None\n",
        "\n",
        "    def reverse_inorder(node):\n",
        "        nonlocal count, result\n",
        "\n",
        "        if node is None or result is not None:\n",
        "            return\n",
        "\n",
        "        reverse_inorder(node.right)  # Traverse right subtree\n",
        "\n",
        "        count += 1\n",
        "        if count == k:  # Found the kth largest\n",
        "            result = node.value\n",
        "            return\n",
        "\n",
        "        reverse_inorder(node.left)  # Traverse left subtree\n",
        "\n",
        "    reverse_inorder(root)\n",
        "    return result"
      ],
      "metadata": {
        "id": "SI9tWNBP9Q6m"
      },
      "execution_count": 5,
      "outputs": []
    },
    {
      "cell_type": "code",
      "source": [
        "### Your test code goes here. ###\n",
        "# Example usage\n",
        "bst = BinarySearchTree()\n",
        "bst.insert(6)\n",
        "bst.insert(2)\n",
        "bst.insert(1)\n",
        "bst.insert(4)\n",
        "bst.insert(3)\n",
        "bst.insert(5)\n",
        "bst.insert(7)\n",
        "bst.insert(9)\n",
        "bst.insert(8)\n",
        "\n",
        "k = 3\n",
        "kth_largest = find_kth_largest(bst.root, k)\n",
        "print(f\"The {k}th largest element is: {kth_largest}\")"
      ],
      "metadata": {
        "id": "sMpxXsmP9XCA",
        "colab": {
          "base_uri": "https://localhost:8080/"
        },
        "outputId": "ed3d6d29-258f-40bd-d8db-6b43d378d58f"
      },
      "execution_count": 6,
      "outputs": [
        {
          "output_type": "stream",
          "name": "stdout",
          "text": [
            "The 3th largest element is: 7\n"
          ]
        }
      ]
    },
    {
      "cell_type": "markdown",
      "source": [
        "*Your analysis goes here.*"
      ],
      "metadata": {
        "id": "dpovfabN9uwz"
      }
    },
    {
      "cell_type": "markdown",
      "source": [
        "3. **Convert a BST to a Reverse Sorted List**: Implement a function `bst_to_reverse_sorted_list(root)` that converts a BST into a sorted list in descending order without using extra space for the list (hint: post-order traversal)."
      ],
      "metadata": {
        "id": "Rt7EHo228sug"
      }
    },
    {
      "cell_type": "markdown",
      "source": [
        "*Your explanation goes here.*"
      ],
      "metadata": {
        "id": "GsgdWsAt9LBV"
      }
    },
    {
      "cell_type": "code",
      "source": [
        "### Your solution code goes here. ###\n",
        "def bst_to_reverse_sorted_list(root):\n",
        "    \"\"\"\n",
        "    Converts a Binary Search Tree (BST) into a reverse sorted list in-place.\n",
        "\n",
        "    Args:\n",
        "        root: The root of the BST.\n",
        "\n",
        "    Returns:\n",
        "        The head of the reverse sorted list (the node with the largest value).\n",
        "    \"\"\"\n",
        "\n",
        "    head = None  # Initialize the head of the list\n",
        "\n",
        "    def postorder(node):\n",
        "        nonlocal head\n",
        "\n",
        "        if node is None:\n",
        "            return\n",
        "\n",
        "        postorder(node.right)  # Traverse right subtree\n",
        "        postorder(node.left)  # Traverse left subtree\n",
        "\n",
        "        node.right = head  # Make current node's right point to the previous head\n",
        "        node.left = None  # Set left pointer to None\n",
        "        head = node  # Update head to the current node\n",
        "\n",
        "    postorder(root)\n",
        "    return head"
      ],
      "metadata": {
        "id": "UhTv0US79RUq"
      },
      "execution_count": 7,
      "outputs": []
    },
    {
      "cell_type": "code",
      "source": [
        "### Your test code goes here. ###\n",
        "# Example usage\n",
        "bst = BinarySearchTree()\n",
        "bst.insert(6)\n",
        "bst.insert(2)\n",
        "bst.insert(1)\n",
        "bst.insert(4)\n",
        "bst.insert(3)\n",
        "bst.insert(5)\n",
        "bst.insert(7)\n",
        "bst.insert(9)\n",
        "bst.insert(8)\n",
        "\n",
        "head = bst_to_reverse_sorted_list(bst.root)\n",
        "\n",
        "# Print the list (traversing from head to tail)\n",
        "current = head\n",
        "while current:\n",
        "    print(current.value, end=\" \")  # Output: 9 8 7 6 5 4 3 2 1\n",
        "    current = current.right"
      ],
      "metadata": {
        "id": "i5xJ7ccI9XdK",
        "colab": {
          "base_uri": "https://localhost:8080/"
        },
        "outputId": "13944faa-43b9-4d9f-c872-131f9cd483f6"
      },
      "execution_count": 8,
      "outputs": [
        {
          "output_type": "stream",
          "name": "stdout",
          "text": [
            "6 2 1 4 3 5 7 9 8 "
          ]
        }
      ]
    },
    {
      "cell_type": "markdown",
      "source": [
        "*Your analysis goes here.*"
      ],
      "metadata": {
        "id": "e6G1ScNU9vMJ"
      }
    },
    {
      "cell_type": "markdown",
      "source": [
        "4. **Convert Sorted Array to BST**: Given a sorted array, write a function `sorted_array_to_bst(arr)` that constructs a balanced BST from the array."
      ],
      "metadata": {
        "id": "4NSDoRGC8z3R"
      }
    },
    {
      "cell_type": "markdown",
      "source": [
        "*Your explanation goes here.*"
      ],
      "metadata": {
        "id": "NGBqSYc99NIO"
      }
    },
    {
      "cell_type": "code",
      "source": [
        "### Your solution code goes here. ###\n",
        "class BinarySearchTreeNode:\n",
        "    def __init__(self, val=0, left=None, right=None):\n",
        "        self.val = val\n",
        "        self.left = left\n",
        "        self.right = right\n",
        "\n",
        "def sorted_array_to_bst(arr):\n",
        "    \"\"\"\n",
        "    Constructs a balanced Binary Search Tree (BST) from a sorted array.\n",
        "\n",
        "    Args:\n",
        "        arr: The sorted array.\n",
        "\n",
        "    Returns:\n",
        "        The root of the balanced BST.\n",
        "    \"\"\"\n",
        "\n",
        "    if not arr:  # Base case: empty array\n",
        "        return None\n",
        "\n",
        "    mid = len(arr) // 2  # Find the middle index\n",
        "\n",
        "    root = BinarySearchTreeNode(arr[mid])  # Create node with middle element\n",
        "\n",
        "    root.left = sorted_array_to_bst(arr[:mid])  # Recursively build left subtree\n",
        "    root.right = sorted_array_to_bst(arr[mid + 1:])  # Recursively build right subtree\n",
        "\n",
        "    return root"
      ],
      "metadata": {
        "id": "WXWN-RDA9TgS"
      },
      "execution_count": 15,
      "outputs": []
    },
    {
      "cell_type": "code",
      "source": [
        "### Your test code goes here. ###\n",
        "class BinarySearchTree:\n",
        "    def __init__(self, root=None):\n",
        "        self.root = root\n",
        "\n",
        "    def print_tree(self, node=None, level=0, prefix=\"Root: \"):\n",
        "        \"\"\"Prints the tree structure with indentation.\"\"\"\n",
        "        if not node:\n",
        "            node = self.root  # Start from root if node is not provided\n",
        "        if node:\n",
        "            print(\" \" * level + prefix + str(node.val))\n",
        "            if node.left:\n",
        "                self.print_tree(node.left, level + 1, \"L--- \")\n",
        "            if node.right:\n",
        "                self.print_tree(node.right, level + 1, \"R--- \")\n",
        "\n",
        "# Example usage\n",
        "arr = [-10, -3, 0, 5, 9]\n",
        "root = sorted_array_to_bst(arr)\n",
        "\n",
        "bst = BinarySearchTree()\n",
        "bst.root = root  # Set the root of the BST\n",
        "\n",
        "bst.print_tree()"
      ],
      "metadata": {
        "id": "wCnXJOIR9ov_",
        "colab": {
          "base_uri": "https://localhost:8080/"
        },
        "outputId": "e51602a8-77ef-4b2a-f295-dbd62869bc82"
      },
      "execution_count": 17,
      "outputs": [
        {
          "output_type": "stream",
          "name": "stdout",
          "text": [
            "Root: 0\n",
            " L--- -3\n",
            "  L--- -10\n",
            " R--- 9\n",
            "  L--- 5\n"
          ]
        }
      ]
    },
    {
      "cell_type": "markdown",
      "source": [
        "*Your analysis goes here.*"
      ],
      "metadata": {
        "id": "Ae1tlPb590Ll"
      }
    },
    {
      "cell_type": "markdown",
      "source": [
        "5. **Hash Table with Your Hash Function**: You are to create a hash table with a size of 7 and make your own unique hash function. An example:\n",
        "\n",
        "  $\\text{hash}(\\text{key}) = (\\text{key} \\% 7 + \\text{probe}) \\% 7$\n",
        "\n",
        "  This hash function uses linear probing to handle collisions, where probe is the number of attempts made to find an empty slot in the table.\n",
        "\n",
        "  Your task is to:\n",
        "\n",
        "  - Insert the following keys in the hash table, in this order: 10, 20, 15, 7, 22 and show the Hash table status after insertion.\n",
        "  - Explain in a few words how your hash function could affect the performance of operations (insertion, search, and deletion) in a hash table. Consider both time complexity and space utilization.\n"
      ],
      "metadata": {
        "id": "rCaoNz6L2zm-"
      }
    },
    {
      "cell_type": "code",
      "source": [
        "# YOUR CODE GOES HERE\n",
        "def calculate_hash_value(key, probe):\n",
        "  \"\"\"Calculates the hash value for a given key and probe.\n",
        "  \"\"\"\n",
        "  hash_value = (key % 7 + 3 * probe) % 7\n",
        "  return hash_value\n",
        "\n",
        "# Example Usage\n",
        "key = 10  # Assign a value to 'key'\n",
        "probe = 2   # Assign a value to 'probe'\n",
        "\n",
        "hash_value = calculate_hash_value(key, probe) # calling the hash function with key and probe and assigning it to the variable hash_value\n",
        "print(hash_value) # Print the hash value"
      ],
      "metadata": {
        "id": "I4we9ZVh5vf-",
        "colab": {
          "base_uri": "https://localhost:8080/"
        },
        "outputId": "aa882720-fd80-4970-f670-f69a8a1c88c2"
      },
      "execution_count": 20,
      "outputs": [
        {
          "output_type": "stream",
          "name": "stdout",
          "text": [
            "2\n"
          ]
        }
      ]
    }
  ]
}